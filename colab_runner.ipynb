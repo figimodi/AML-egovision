{
  "cells": [
    {
      "attachments": {},
      "cell_type": "markdown",
      "metadata": {},
      "source": [
        "# Getting started for the AML 2023/2024 Egocentric Vision Project"
      ]
    },
    {
      "attachments": {},
      "cell_type": "markdown",
      "metadata": {
        "colab_type": "text",
        "id": "view-in-github"
      },
      "source": [
        "<a href=\"https://colab.research.google.com/github/EgovisionPolito/aml23-ego/blob/master/colab_runner.ipynb\" target=\"_parent\"><img src=\"https://colab.research.google.com/assets/colab-badge.svg\" alt=\"Open In Colab\"/></a>"
      ]
    },
    {
      "cell_type": "markdown",
      "metadata": {},
      "source": [
        "## Downloading the code"
      ]
    },
    {
      "cell_type": "code",
      "execution_count": 7,
      "metadata": {},
      "outputs": [],
      "source": [
        "# Installing missing dependencies\n",
        "# !pip install omegaconf coloredlogs wandb"
      ]
    },
    {
      "attachments": {},
      "cell_type": "markdown",
      "metadata": {},
      "source": [
        "## EPIC-Kitchens-55 dataset\n",
        "\n",
        "**READ carefully!**\n",
        "\n",
        "To develop the project, you need to download the RGB frames for a subset of EPIC-Kitchens-55 (participants P08, P01 and P22) from [here](https://drive.google.com/drive/u/1/folders/1dJOtZ07WovP3YSCRAnU0E4gsfqDzpMVo). \n",
        "\n",
        "You also need to the pretrained checkpoints for each domain from [here](https://politoit-my.sharepoint.com/:f:/g/personal/simone_peirone_polito_it/ErdsZhvmR65Lun5_5O0-l5sBTPjCCZZq2f700Tj_CNzjTQ?e=L1yflf).\n",
        "\n",
        "Add the Google Drive directory containing the dataset to your Google Drive or upload the dataset on your Google Drive to access it from Google Colab.\n",
        "\n",
        "**NOTE**: As the dataset is quite heavy, we stronly suggest you to implement and test all your code on one for the three dataset. Then, once you are sure everything works, repeat the experiments on the remaining two datasets."
      ]
    },
    {
      "attachments": {},
      "cell_type": "markdown",
      "metadata": {},
      "source": [
        "## Features extraction"
      ]
    },
    {
      "cell_type": "markdown",
      "metadata": {},
      "source": [
        "### Dense test"
      ]
    },
    {
      "cell_type": "code",
      "execution_count": null,
      "metadata": {
        "id": "88YghJyXhbfS"
      },
      "outputs": [],
      "source": [
        "%%bash\n",
        "\n",
        "python.exe save_feat.py name=dense_5 \\\n",
        "  config=configs/I3D_save_feat.yaml \\\n",
        "  dataset.shift=D1-D1 \\\n",
        "  dataset.RGB.data_path=../ek_data/frames \\\n",
        "  split=test \\\n",
        "  dataset.workers=0 \\\n",
        "  save.num_frames_per_clip.RGB=5 \\\n",
        "  save.dense_sampling.RGB=True\n",
        "\n",
        "python.exe save_feat.py name=dense_10 \\\n",
        "  config=configs/I3D_save_feat.yaml \\\n",
        "  dataset.shift=D1-D1 \\\n",
        "  dataset.RGB.data_path=../ek_data/frames \\\n",
        "  split=test \\\n",
        "  dataset.workers=0 \\\n",
        "  save.num_frames_per_clip.RGB=10 \\\n",
        "  save.dense_sampling.RGB=True\n",
        "\n",
        "python.exe save_feat.py name=dense_16 \\\n",
        "  config=configs/I3D_save_feat.yaml \\\n",
        "  dataset.shift=D1-D1 \\\n",
        "  dataset.RGB.data_path=../ek_data/frames \\\n",
        "  split=test \\\n",
        "  dataset.workers=0 \\\n",
        "  save.num_frames_per_clip.RGB=16 \\\n",
        "  save.dense_sampling.RGB=True\n",
        "  \n",
        "python.exe save_feat.py name=dense_25 \\\n",
        "  config=configs/I3D_save_feat.yaml \\\n",
        "  dataset.shift=D1-D1 \\\n",
        "  dataset.RGB.data_path=../ek_data/frames \\\n",
        "  split=test \\\n",
        "  dataset.workers=0 \\\n",
        "  save.num_frames_per_clip.RGB=25 \\\n",
        "  save.dense_sampling.RGB=True\n",
        "\n",
        "# python.exe save_feat.py name=uniform_25 config=configs/I3D_save_feat.yaml dataset.shift=D1-D1 dataset.RGB.data_path=../ek_data/frames split=test dataset.workers=0 save.num_frames_per_clip.RGB=25 save.dense_sampling.RGB=False\n",
        "# If everything is working, you should expect an error message telling you to implement the '_get_val_indices' method in the dataset class.\n",
        "# Once you have implemented it, you should run the script for the train and test split of the dataset to extract the features."
      ]
    },
    {
      "cell_type": "markdown",
      "metadata": {},
      "source": [
        "### Dense train"
      ]
    },
    {
      "cell_type": "code",
      "execution_count": null,
      "metadata": {},
      "outputs": [],
      "source": [
        "%%bash\n",
        "\n",
        "python.exe save_feat.py name=dense_5 \\\n",
        "  config=configs/I3D_save_feat.yaml \\\n",
        "  dataset.shift=D1-D1 \\\n",
        "  dataset.RGB.data_path=../ek_data/frames \\\n",
        "  split=train \\\n",
        "  dataset.workers=0 \\\n",
        "  save.num_frames_per_clip.RGB=5 \\\n",
        "  save.dense_sampling.RGB=True\n",
        "  \n",
        "python.exe save_feat.py name=dense_10 \\\n",
        "  config=configs/I3D_save_feat.yaml \\\n",
        "  dataset.shift=D1-D1 \\\n",
        "  dataset.RGB.data_path=../ek_data/frames \\\n",
        "  split=train \\\n",
        "  dataset.workers=0 \\\n",
        "  save.num_frames_per_clip.RGB=10 \\\n",
        "  save.dense_sampling.RGB=True\n",
        "\n",
        "python.exe save_feat.py name=dense_16 \\\n",
        "  config=configs/I3D_save_feat.yaml \\\n",
        "  dataset.shift=D1-D1 \\\n",
        "  dataset.RGB.data_path=../ek_data/frames \\\n",
        "  split=train \\\n",
        "  dataset.workers=0 \\\n",
        "  save.num_frames_per_clip.RGB=16 \\\n",
        "  save.dense_sampling.RGB=True\n",
        "  \n",
        "python.exe save_feat.py name=dense_25 \\\n",
        "  config=configs/I3D_save_feat.yaml \\\n",
        "  dataset.shift=D1-D1 \\\n",
        "  dataset.RGB.data_path=../ek_data/frames \\\n",
        "  split=train \\\n",
        "  dataset.workers=0 \\\n",
        "  save.num_frames_per_clip.RGB=25 \\\n",
        "  save.dense_sampling.RGB=True"
      ]
    },
    {
      "cell_type": "markdown",
      "metadata": {},
      "source": [
        "### Uniform test"
      ]
    },
    {
      "cell_type": "code",
      "execution_count": null,
      "metadata": {},
      "outputs": [],
      "source": [
        "%%bash\n",
        "\n",
        "python.exe save_feat.py name=uniform_5 \\\n",
        "  config=configs/I3D_save_feat.yaml \\\n",
        "  dataset.shift=D1-D1 \\\n",
        "  dataset.RGB.data_path=../ek_data/frames \\\n",
        "  split=test \\\n",
        "  dataset.workers=0 \\\n",
        "  save.num_frames_per_clip.RGB=5 \\\n",
        "  save.dense_sampling.RGB=False\n",
        "  \n",
        "python.exe save_feat.py name=uniform_10 \\\n",
        "  config=configs/I3D_save_feat.yaml \\\n",
        "  dataset.shift=D1-D1 \\\n",
        "  dataset.RGB.data_path=../ek_data/frames \\\n",
        "  split=test \\\n",
        "  dataset.workers=0 \\\n",
        "  save.num_frames_per_clip.RGB=10 \\\n",
        "  save.dense_sampling.RGB=False\n",
        "\n",
        "python.exe save_feat.py name=uniform_16 \\\n",
        "  config=configs/I3D_save_feat.yaml \\\n",
        "  dataset.shift=D1-D1 \\\n",
        "  dataset.RGB.data_path=../ek_data/frames \\\n",
        "  split=test \\\n",
        "  dataset.workers=0 \\\n",
        "  save.num_frames_per_clip.RGB=16 \\\n",
        "  save.dense_sampling.RGB=False\n",
        "  \n",
        "python.exe save_feat.py name=uniform_25 \\\n",
        "  config=configs/I3D_save_feat.yaml \\\n",
        "  dataset.shift=D1-D1 \\\n",
        "  dataset.RGB.data_path=../ek_data/frames \\\n",
        "  split=test \\\n",
        "  dataset.workers=0 \\\n",
        "  save.num_frames_per_clip.RGB=25 \\\n",
        "  save.dense_sampling.RGB=False"
      ]
    },
    {
      "cell_type": "markdown",
      "metadata": {},
      "source": [
        "### Uniform train"
      ]
    },
    {
      "cell_type": "code",
      "execution_count": null,
      "metadata": {},
      "outputs": [],
      "source": [
        "%%bash\n",
        "\n",
        "python.exe save_feat.py name=uniform_5 \\\n",
        "  config=configs/I3D_save_feat.yaml \\\n",
        "  dataset.shift=D1-D1 \\\n",
        "  dataset.RGB.data_path=../ek_data/frames \\\n",
        "  split=train \\\n",
        "  dataset.workers=0 \\\n",
        "  save.num_frames_per_clip.RGB=5 \\\n",
        "  save.dense_sampling.RGB=False\n",
        "  \n",
        "python.exe save_feat.py name=uniform_10 \\\n",
        "  config=configs/I3D_save_feat.yaml \\\n",
        "  dataset.shift=D1-D1 \\\n",
        "  dataset.RGB.data_path=../ek_data/frames \\\n",
        "  split=train \\\n",
        "  dataset.workers=0 \\\n",
        "  save.num_frames_per_clip.RGB=10 \\\n",
        "  save.dense_sampling.RGB=False\n",
        "\n",
        "python.exe save_feat.py name=uniform_16 \\\n",
        "  config=configs/I3D_save_feat.yaml \\\n",
        "  dataset.shift=D1-D1 \\\n",
        "  dataset.RGB.data_path=../ek_data/frames \\\n",
        "  split=train \\\n",
        "  dataset.workers=0 \\\n",
        "  save.num_frames_per_clip.RGB=16 \\\n",
        "  save.dense_sampling.RGB=False\n",
        "  \n",
        "python.exe save_feat.py name=uniform_25 \\\n",
        "  config=configs/I3D_save_feat.yaml \\\n",
        "  dataset.shift=D1-D1 \\\n",
        "  dataset.RGB.data_path=../ek_data/frames \\\n",
        "  split=train \\\n",
        "  dataset.workers=0 \\\n",
        "  save.num_frames_per_clip.RGB=25 \\\n",
        "  save.dense_sampling.RGB=False"
      ]
    },
    {
      "cell_type": "markdown",
      "metadata": {},
      "source": [
        "# Plot features"
      ]
    },
    {
      "cell_type": "code",
      "execution_count": null,
      "metadata": {},
      "outputs": [],
      "source": [
        "%%bash\n",
        "\n",
        "python.exe plot_features.py \\\n",
        "    use_frames=False \\\n",
        "    features_path='saved_features/dense_5_D1_test.pkl' \\\n",
        "    split_path='train_val/D1_test.pkl' \\\n",
        "    output_image_path='plots/uniform/dense_5_test_woim.png' \\\n",
        "    plot_3D=False\n",
        "    \n",
        "python.exe plot_features.py \\\n",
        "    use_frames=False \\\n",
        "    features_path='saved_features/dense_10_D1_test.pkl' \\\n",
        "    split_path='train_val/D1_test.pkl' \\\n",
        "    output_image_path='plots/uniform/dense_10_test_woim.png' \\\n",
        "    plot_3D=False\n",
        "    \n",
        "python.exe plot_features.py \\\n",
        "    use_frames=False \\\n",
        "    features_path='saved_features/dense_16_D1_test.pkl' \\\n",
        "    split_path='train_val/D1_test.pkl' \\\n",
        "    output_image_path='plots/uniform/dense_16_test_woim.png' \\\n",
        "    plot_3D=False\n",
        "    \n",
        "python.exe plot_features.py \\\n",
        "    use_frames=False \\\n",
        "    features_path='saved_features/dense_25_D1_test.pkl' \\\n",
        "    split_path='train_val/D1_test.pkl' \\\n",
        "    output_image_path='plots/uniform/dense_25_test_woim.png' \\\n",
        "    plot_3D=False\n",
        "    \n",
        "python.exe plot_features.py \\\n",
        "    use_frames=True \\\n",
        "    features_path='saved_features/dense_5_D1_test.pkl' \\\n",
        "    split_path='train_val/D1_test.pkl' \\\n",
        "    output_image_path='plots/uniform/dense_5_test_woim.png' \\\n",
        "    plot_3D=False\n",
        "    \n",
        "python.exe plot_features.py \\\n",
        "    use_frames=True \\\n",
        "    features_path='saved_features/dense_10_D1_test.pkl' \\\n",
        "    split_path='train_val/D1_test.pkl' \\\n",
        "    output_image_path='plots/uniform/dense_10_test_woim.png' \\\n",
        "    plot_3D=False\n",
        "    \n",
        "python.exe plot_features.py \\\n",
        "    use_frames=True \\\n",
        "    features_path='saved_features/dense_16_D1_test.pkl' \\\n",
        "    split_path='train_val/D1_test.pkl' \\\n",
        "    output_image_path='plots/uniform/dense_16_test_woim.png' \\\n",
        "    plot_3D=False\n",
        "    \n",
        "python.exe plot_features.py \\\n",
        "    use_frames=True \\\n",
        "    features_path='saved_features/dense_25_D1_test.pkl' \\\n",
        "    split_path='train_val/D1_test.pkl' \\\n",
        "    output_image_path='plots/uniform/dense_25_test_woim.png' \\\n",
        "    plot_3D=False\n",
        "    \n",
        "python.exe plot_features.py \\\n",
        "    use_frames=False \\\n",
        "    features_path='saved_features/uniform_5_D1_test.pkl' \\\n",
        "    split_path='train_val/D1_test.pkl' \\\n",
        "    output_image_path='plots/uniform/uniform_5_test_woim.png' \\\n",
        "    plot_3D=False\n",
        "    \n",
        "python.exe plot_features.py \\\n",
        "    use_frames=False \\\n",
        "    features_path='saved_features/uniform_10_D1_test.pkl' \\\n",
        "    split_path='train_val/D1_test.pkl' \\\n",
        "    output_image_path='plots/uniform/uniform_10_test_woim.png' \\\n",
        "    plot_3D=False\n",
        "    \n",
        "python.exe plot_features.py \\\n",
        "    use_frames=False \\\n",
        "    features_path='saved_features/uniform_16_D1_test.pkl' \\\n",
        "    split_path='train_val/D1_test.pkl' \\\n",
        "    output_image_path='plots/uniform/uniform_16_test_woim.png' \\\n",
        "    plot_3D=False\n",
        "    \n",
        "python.exe plot_features.py \\\n",
        "    use_frames=False \\\n",
        "    features_path='saved_features/uniform_25_D1_test.pkl' \\\n",
        "    split_path='train_val/D1_test.pkl' \\\n",
        "    output_image_path='plots/uniform/uniform_25_test_woim.png' \\\n",
        "    plot_3D=False\n",
        "    \n",
        "python.exe plot_features.py \\\n",
        "    use_frames=True \\\n",
        "    features_path='saved_features/uniform_5_D1_test.pkl' \\\n",
        "    split_path='train_val/D1_test.pkl' \\\n",
        "    output_image_path='plots/uniform/uniform_5_test_woim.png' \\\n",
        "    plot_3D=False\n",
        "    \n",
        "python.exe plot_features.py \\\n",
        "    use_frames=True \\\n",
        "    features_path='saved_features/uniform_10_D1_test.pkl' \\\n",
        "    split_path='train_val/D1_test.pkl' \\\n",
        "    output_image_path='plots/uniform/uniform_10_test_woim.png' \\\n",
        "    plot_3D=False\n",
        "    \n",
        "python.exe plot_features.py \\\n",
        "    use_frames=True \\\n",
        "    features_path='saved_features/uniform_16_D1_test.pkl' \\\n",
        "    split_path='train_val/D1_test.pkl' \\\n",
        "    output_image_path='plots/uniform/uniform_16_test_woim.png' \\\n",
        "    plot_3D=False\n",
        "    \n",
        "python.exe plot_features.py \\\n",
        "    use_frames=True \\\n",
        "    features_path='saved_features/uniform_25_D1_test.pkl' \\\n",
        "    split_path='train_val/D1_test.pkl' \\\n",
        "    output_image_path='plots/uniform/uniform_25_test_woim.png' \\\n",
        "    plot_3D=False"
      ]
    },
    {
      "cell_type": "markdown",
      "metadata": {},
      "source": [
        "# Training"
      ]
    },
    {
      "cell_type": "code",
      "execution_count": 1,
      "metadata": {},
      "outputs": [],
      "source": [
        "%%bash\n",
        "\n",
        "# MLP\n",
        "python.exe train_classifier.py name=MLP dataset.shift=D1-D1 dataset.RGB.data_path=../ek_data/frames dataset.RGB.features_name=dense_5 dataset.workers=0 models.RGB.model=MLP\n",
        "# LSTM\n",
        "python.exe train_classifier.py name=LSTM dataset.shift=D1-D1 dataset.RGB.data_path=../ek_data/frames dataset.RGB.features_name=dense_5 dataset.workers=0 models.RGB.model=LSTM\n",
        "# RNN\n",
        "python.exe train_classifier.py name=RNN dataset.shift=D1-D1 dataset.RGB.data_path=../ek_data/frames dataset.RGB.features_name=dense_5 dataset.workers=0 models.RGB.model=RNN"
      ]
    }
  ],
  "metadata": {
    "accelerator": "GPU",
    "colab": {
      "authorship_tag": "ABX9TyMA44pwS84HIKtaEclSmH2W",
      "include_colab_link": true,
      "provenance": []
    },
    "gpuClass": "standard",
    "kernelspec": {
      "display_name": "Python 3.11.5 ('base')",
      "language": "python",
      "name": "python3"
    },
    "language_info": {
      "codemirror_mode": {
        "name": "ipython",
        "version": 3
      },
      "file_extension": ".py",
      "mimetype": "text/x-python",
      "name": "python",
      "nbconvert_exporter": "python",
      "pygments_lexer": "ipython3",
      "version": "3.11.2"
    },
    "vscode": {
      "interpreter": {
        "hash": "2802aa912f20f04bdfa864fece71ae8a7c06c1db711e2d82eab687200680d432"
      }
    }
  },
  "nbformat": 4,
  "nbformat_minor": 0
}
