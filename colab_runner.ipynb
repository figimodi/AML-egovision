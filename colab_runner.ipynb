{
  "cells": [
    {
      "attachments": {},
      "cell_type": "markdown",
      "metadata": {},
      "source": [
        "# Getting started for the AML 2023/2024 Egocentric Vision Project"
      ]
    },
    {
      "attachments": {},
      "cell_type": "markdown",
      "metadata": {
        "colab_type": "text",
        "id": "view-in-github"
      },
      "source": [
        "<a href=\"https://colab.research.google.com/github/EgovisionPolito/aml23-ego/blob/master/colab_runner.ipynb\" target=\"_parent\"><img src=\"https://colab.research.google.com/assets/colab-badge.svg\" alt=\"Open In Colab\"/></a>"
      ]
    },
    {
      "cell_type": "markdown",
      "metadata": {},
      "source": [
        "## Downloading the code"
      ]
    },
    {
      "cell_type": "code",
      "execution_count": 7,
      "metadata": {},
      "outputs": [],
      "source": [
        "# Installing missing dependencies\n",
        "# !pip install omegaconf coloredlogs wandb"
      ]
    },
    {
      "attachments": {},
      "cell_type": "markdown",
      "metadata": {},
      "source": [
        "## EPIC-Kitchens-55 dataset\n",
        "\n",
        "**READ carefully!**\n",
        "\n",
        "To develop the project, you need to download the RGB frames for a subset of EPIC-Kitchens-55 (participants P08, P01 and P22) from [here](https://drive.google.com/drive/u/1/folders/1dJOtZ07WovP3YSCRAnU0E4gsfqDzpMVo). \n",
        "\n",
        "You also need to the pretrained checkpoints for each domain from [here](https://politoit-my.sharepoint.com/:f:/g/personal/simone_peirone_polito_it/ErdsZhvmR65Lun5_5O0-l5sBTPjCCZZq2f700Tj_CNzjTQ?e=L1yflf).\n",
        "\n",
        "Add the Google Drive directory containing the dataset to your Google Drive or upload the dataset on your Google Drive to access it from Google Colab.\n",
        "\n",
        "**NOTE**: As the dataset is quite heavy, we stronly suggest you to implement and test all your code on one for the three dataset. Then, once you are sure everything works, repeat the experiments on the remaining two datasets."
      ]
    },
    {
      "attachments": {},
      "cell_type": "markdown",
      "metadata": {},
      "source": [
        "## Features extraction"
      ]
    },
    {
      "cell_type": "code",
      "execution_count": 9,
      "metadata": {
        "id": "88YghJyXhbfS"
      },
      "outputs": [
        {
          "name": "stderr",
          "output_type": "stream",
          "text": [
            "-bash: line 3: cd: ./aml23-ego-master: No such file or directory\n"
          ]
        },
        {
          "name": "stdout",
          "output_type": "stream",
          "text": [
            "/mnt/b/Dropbox (Politecnico Di Torino Studenti)/Laboratori/AML-porject/mldl23-ego\n"
          ]
        },
        {
          "name": "stderr",
          "output_type": "stream",
          "text": [
            "\u001b[32m2024-02-14 10:20:00\u001b[0m \u001b[34mLOG\u001b[0m \u001b[1;30mINFO\u001b[0m Feature Extraction\n",
            "\u001b[32m2024-02-14 10:20:00\u001b[0m \u001b[34mLOG\u001b[0m \u001b[1;30mINFO\u001b[0m Running with parameters: \n",
            "  action: save\n",
            "  name: SAVE_DENSE-extracted\n",
            "  modality: ['RGB']\n",
            "  total_batch: 128\n",
            "  batch_size: 32\n",
            "  gpus: None\n",
            "  wandb_name: None\n",
            "  resume_from: ./saved_models/I3D_SourceOnlyD1\n",
            "  logname: save_D1-D1.log\n",
            "  models_dir: saved_models\\SAVE_DENSE-extracted\\Feb14_10-19-56\n",
            "  train:\n",
            "    num_iter: 5000\n",
            "    lr_steps: 3000\n",
            "    eval_freq: 50\n",
            "    num_clips: 1\n",
            "    dense_sampling:\n",
            "      RGB: True\n",
            "    num_frames_per_clip:\n",
            "      RGB: 16\n",
            "  test:\n",
            "    num_clips: 5\n",
            "    dense_sampling:\n",
            "      RGB: True\n",
            "    num_frames_per_clip:\n",
            "      RGB: 16\n",
            "  dataset:\n",
            "    annotations_path: train_val\n",
            "    shift: D1-D1\n",
            "    workers: 4\n",
            "    stride: 2\n",
            "    resolution: 224\n",
            "    RGB:\n",
            "      data_path: ../ek_data/frames\n",
            "      tmpl: img_{:010d}.jpg\n",
            "      features_name: test_feat_kinetics\n",
            "    Event:\n",
            "      rgb4e: 6\n",
            "  models:\n",
            "    RGB:\n",
            "      model: I3D\n",
            "      normalize: False\n",
            "      kwargs:\n",
            "      lr_steps: 3000\n",
            "      lr: 0.01\n",
            "      sgd_momentum: 0.9\n",
            "      weight_decay: 1e-07\n",
            "      dropout: 0.5\n",
            "      resolution: 224\n",
            "      weight_i3d_rgb: ./pretrained_i3d/rgb_imagenet.pt\n",
            "  split: train\n",
            "  save:\n",
            "    num_clips: 5\n",
            "    dense_sampling:\n",
            "      RGB: True\n",
            "    num_frames_per_clip:\n",
            "      RGB: 16\n",
            "  config: configs/I3D_save_feat.yaml\n",
            "  experiment_dir: SAVE_DENSE-extracted\\Feb14_10-19-56\n",
            "  log_dir: TEST_RESULTS\\SAVE_DENSE-extracted\n",
            "  logfile: TEST_RESULTS\\SAVE_DENSE-extracted\\save_D1-D1.log\n",
            "\u001b[32m2024-02-14 10:20:00\u001b[0m \u001b[34mLOG\u001b[0m \u001b[1;30mINFO\u001b[0m Instantiating models per modality\n",
            "\u001b[32m2024-02-14 10:20:00\u001b[0m \u001b[34mLOG\u001b[0m \u001b[1;30mINFO\u001b[0m I3D Net\tModality: RGB\n",
            "\u001b[32m2024-02-14 10:20:00\u001b[0m \u001b[34mLOG\u001b[0m \u001b[1;30mINFO\u001b[0m Loading Kinetics weights I3D\n",
            "\u001b[32m2024-02-14 10:20:00\u001b[0m \u001b[34mLOG\u001b[0m \u001b[1;30mINFO\u001b[0m  * Skipping Logits weight for 'logits.conv3d.weight'\n",
            "\u001b[32m2024-02-14 10:20:00\u001b[0m \u001b[34mLOG\u001b[0m \u001b[1;30mINFO\u001b[0m  * Skipping Logits weight for 'logits.conv3d.bias'\n",
            "\u001b[32m2024-02-14 10:20:00\u001b[0m \u001b[34mLOG\u001b[0m \u001b[1;30mINFO\u001b[0m Restoring action-classifier for modality RGB from saved_models\\I3D_SourceOnlyD1\\Oct25_22-38-50\\action-classifier_RGB_9.pth\n",
            "\u001b[32m2024-02-14 10:20:00\u001b[0m \u001b[34mLOG\u001b[0m \u001b[1;30mINFO\u001b[0m RGB-Model for action-classifier restored at iter 4850.0\n",
            "Best accuracy on val: 59.54 at iter 4000.0\n",
            "Last accuracy on val: 58.85\n",
            "Last loss: 0.00\n",
            "\u001b[32m2024-02-14 10:20:00\u001b[0m \u001b[34mLOG\u001b[0m \u001b[1;30mINFO\u001b[0m Dataloader for D1-train with 1543 samples generated\n",
            "\u001b[32m2024-02-14 10:21:00\u001b[0m \u001b[34mLOG\u001b[0m \u001b[1;30mINFO\u001b[0m [308/1543] top1= 88.636% top5 = 100.000%\n",
            "\u001b[32m2024-02-14 10:21:42\u001b[0m \u001b[34mLOG\u001b[0m \u001b[1;30mINFO\u001b[0m [616/1543] top1= 89.935% top5 = 100.000%\n",
            "\u001b[32m2024-02-14 10:22:25\u001b[0m \u001b[34mLOG\u001b[0m \u001b[1;30mINFO\u001b[0m [924/1543] top1= 90.584% top5 = 100.000%\n",
            "\u001b[32m2024-02-14 10:23:05\u001b[0m \u001b[34mLOG\u001b[0m \u001b[1;30mINFO\u001b[0m [1232/1543] top1= 90.016% top5 = 100.000%\n",
            "\u001b[32m2024-02-14 10:23:44\u001b[0m \u001b[34mLOG\u001b[0m \u001b[1;30mINFO\u001b[0m [1540/1543] top1= 90.260% top5 = 100.000%\n",
            "\u001b[32m2024-02-14 10:23:45\u001b[0m \u001b[34mLOG\u001b[0m \u001b[1;30mINFO\u001b[0m Final accuracy: top1 = 90.28%\ttop5 = 100.00%\n",
            "\u001b[32m2024-02-14 10:23:45\u001b[0m \u001b[34mLOG\u001b[0m \u001b[1;30mINFO\u001b[0m Class 0 = [378/421] = 89.79%\n",
            "\u001b[32m2024-02-14 10:23:45\u001b[0m \u001b[34mLOG\u001b[0m \u001b[1;30mINFO\u001b[0m Class 1 = [348/383] = 90.86%\n",
            "\u001b[32m2024-02-14 10:23:45\u001b[0m \u001b[34mLOG\u001b[0m \u001b[1;30mINFO\u001b[0m Class 2 = [216/231] = 93.51%\n",
            "\u001b[32m2024-02-14 10:23:45\u001b[0m \u001b[34mLOG\u001b[0m \u001b[1;30mINFO\u001b[0m Class 3 = [105/128] = 82.03%\n",
            "\u001b[32m2024-02-14 10:23:45\u001b[0m \u001b[34mLOG\u001b[0m \u001b[1;30mINFO\u001b[0m Class 4 = [206/223] = 92.38%\n",
            "\u001b[32m2024-02-14 10:23:45\u001b[0m \u001b[34mLOG\u001b[0m \u001b[1;30mINFO\u001b[0m Class 5 = [62/71] = 87.32%\n",
            "\u001b[32m2024-02-14 10:23:45\u001b[0m \u001b[34mLOG\u001b[0m \u001b[1;30mINFO\u001b[0m Class 6 = [40/42] = 95.24%\n",
            "\u001b[32m2024-02-14 10:23:45\u001b[0m \u001b[34mLOG\u001b[0m \u001b[1;30mINFO\u001b[0m Class 7 = [38/44] = 86.36%\n",
            "\u001b[32m2024-02-14 10:23:45\u001b[0m \u001b[34mLOG\u001b[0m \u001b[1;30mINFO\u001b[0m Accuracy by averaging class accuracies (same weight for each class): 89.6859928076765%\n"
          ]
        }
      ],
      "source": [
        "%%bash\n",
        "\n",
        "python.exe save_feat.py name=SAVE_DENSE-extracted \\\n",
        "  config=configs/I3D_save_feat.yaml \\\n",
        "  dataset.shift=D1-D1 \\\n",
        "  dataset.RGB.data_path=../ek_data/frames \\\n",
        "  split=train\n",
        "\n",
        "# If everything is working, you should expect an error message telling you to implement the '_get_val_indices' method in the dataset class.\n",
        "# Once you have implemented it, you should run the script for the train and test split of the dataset to extract the features."
      ]
    },
    {
      "cell_type": "code",
      "execution_count": 7,
      "metadata": {},
      "outputs": [
        {
          "name": "stdout",
          "output_type": "stream",
          "text": [
            "{'use_frames': False, 'features_path': 'saved_features/SAVE_DENSE-extracted_D1_train.pkl', 'split_path': 'train_val/D1_train.pkl', 'output_image_path': 'plots/dense_train_woim.png', 'plot_3D': False}\n"
          ]
        },
        {
          "name": "stderr",
          "output_type": "stream",
          "text": [
            "Traceback (most recent call last):\n",
            "  File \"B:\\Dropbox (Politecnico Di Torino Studenti)\\Laboratori\\AML-porject\\mldl23-ego\\plot_features.py\", line 74, in <module>\n",
            "    plot_features(cli_args)\n",
            "  File \"B:\\Dropbox (Politecnico Di Torino Studenti)\\Laboratori\\AML-porject\\mldl23-ego\\plot_features.py\", line 21, in plot_features\n",
            "    with open(features_path, 'rb') as f_file:\n",
            "         ^^^^^^^^^^^^^^^^^^^^^^^^^\n",
            "FileNotFoundError: [Errno 2] No such file or directory: 'saved_features/SAVE_DENSE-extracted_D1_train.pkl'\n"
          ]
        },
        {
          "ename": "CalledProcessError",
          "evalue": "Command 'b\"\\npython.exe plot_features.py \\\\\\n    use_frames=False \\\\\\n    features_path='saved_features/SAVE_DENSE-extracted_D1_train.pkl' \\\\\\n    split_path='train_val/D1_train.pkl' \\\\\\n    output_image_path='plots/dense_train_woim.png' \\\\\\n    plot_3D=False\\n\"' returned non-zero exit status 1.",
          "output_type": "error",
          "traceback": [
            "\u001b[1;31m---------------------------------------------------------------------------\u001b[0m",
            "\u001b[1;31mCalledProcessError\u001b[0m                        Traceback (most recent call last)",
            "Cell \u001b[1;32mIn[7], line 1\u001b[0m\n\u001b[1;32m----> 1\u001b[0m \u001b[43mget_ipython\u001b[49m\u001b[43m(\u001b[49m\u001b[43m)\u001b[49m\u001b[38;5;241;43m.\u001b[39;49m\u001b[43mrun_cell_magic\u001b[49m\u001b[43m(\u001b[49m\u001b[38;5;124;43m'\u001b[39;49m\u001b[38;5;124;43mbash\u001b[39;49m\u001b[38;5;124;43m'\u001b[39;49m\u001b[43m,\u001b[49m\u001b[43m \u001b[49m\u001b[38;5;124;43m'\u001b[39;49m\u001b[38;5;124;43m'\u001b[39;49m\u001b[43m,\u001b[49m\u001b[43m \u001b[49m\u001b[38;5;124;43m\"\u001b[39;49m\u001b[38;5;130;43;01m\\n\u001b[39;49;00m\u001b[38;5;124;43mpython.exe plot_features.py \u001b[39;49m\u001b[38;5;130;43;01m\\\\\u001b[39;49;00m\u001b[38;5;130;43;01m\\n\u001b[39;49;00m\u001b[38;5;124;43m    use_frames=False \u001b[39;49m\u001b[38;5;130;43;01m\\\\\u001b[39;49;00m\u001b[38;5;130;43;01m\\n\u001b[39;49;00m\u001b[38;5;124;43m    features_path=\u001b[39;49m\u001b[38;5;124;43m'\u001b[39;49m\u001b[38;5;124;43msaved_features/SAVE_DENSE-extracted_D1_train.pkl\u001b[39;49m\u001b[38;5;124;43m'\u001b[39;49m\u001b[38;5;124;43m \u001b[39;49m\u001b[38;5;130;43;01m\\\\\u001b[39;49;00m\u001b[38;5;130;43;01m\\n\u001b[39;49;00m\u001b[38;5;124;43m    split_path=\u001b[39;49m\u001b[38;5;124;43m'\u001b[39;49m\u001b[38;5;124;43mtrain_val/D1_train.pkl\u001b[39;49m\u001b[38;5;124;43m'\u001b[39;49m\u001b[38;5;124;43m \u001b[39;49m\u001b[38;5;130;43;01m\\\\\u001b[39;49;00m\u001b[38;5;130;43;01m\\n\u001b[39;49;00m\u001b[38;5;124;43m    output_image_path=\u001b[39;49m\u001b[38;5;124;43m'\u001b[39;49m\u001b[38;5;124;43mplots/dense_train_woim.png\u001b[39;49m\u001b[38;5;124;43m'\u001b[39;49m\u001b[38;5;124;43m \u001b[39;49m\u001b[38;5;130;43;01m\\\\\u001b[39;49;00m\u001b[38;5;130;43;01m\\n\u001b[39;49;00m\u001b[38;5;124;43m    plot_3D=False\u001b[39;49m\u001b[38;5;130;43;01m\\n\u001b[39;49;00m\u001b[38;5;124;43m\"\u001b[39;49m\u001b[43m)\u001b[49m\n",
            "File \u001b[1;32m~\\AppData\\Roaming\\Python\\Python311\\site-packages\\IPython\\core\\interactiveshell.py:2493\u001b[0m, in \u001b[0;36mInteractiveShell.run_cell_magic\u001b[1;34m(self, magic_name, line, cell)\u001b[0m\n\u001b[0;32m   2491\u001b[0m \u001b[39mwith\u001b[39;00m \u001b[39mself\u001b[39m\u001b[39m.\u001b[39mbuiltin_trap:\n\u001b[0;32m   2492\u001b[0m     args \u001b[39m=\u001b[39m (magic_arg_s, cell)\n\u001b[1;32m-> 2493\u001b[0m     result \u001b[39m=\u001b[39m fn(\u001b[39m*\u001b[39;49margs, \u001b[39m*\u001b[39;49m\u001b[39m*\u001b[39;49mkwargs)\n\u001b[0;32m   2495\u001b[0m \u001b[39m# The code below prevents the output from being displayed\u001b[39;00m\n\u001b[0;32m   2496\u001b[0m \u001b[39m# when using magics with decorator @output_can_be_silenced\u001b[39;00m\n\u001b[0;32m   2497\u001b[0m \u001b[39m# when the last Python token in the expression is a ';'.\u001b[39;00m\n\u001b[0;32m   2498\u001b[0m \u001b[39mif\u001b[39;00m \u001b[39mgetattr\u001b[39m(fn, magic\u001b[39m.\u001b[39mMAGIC_OUTPUT_CAN_BE_SILENCED, \u001b[39mFalse\u001b[39;00m):\n",
            "File \u001b[1;32m~\\AppData\\Roaming\\Python\\Python311\\site-packages\\IPython\\core\\magics\\script.py:154\u001b[0m, in \u001b[0;36mScriptMagics._make_script_magic.<locals>.named_script_magic\u001b[1;34m(line, cell)\u001b[0m\n\u001b[0;32m    152\u001b[0m \u001b[39melse\u001b[39;00m:\n\u001b[0;32m    153\u001b[0m     line \u001b[39m=\u001b[39m script\n\u001b[1;32m--> 154\u001b[0m \u001b[39mreturn\u001b[39;00m \u001b[39mself\u001b[39;49m\u001b[39m.\u001b[39;49mshebang(line, cell)\n",
            "File \u001b[1;32m~\\AppData\\Roaming\\Python\\Python311\\site-packages\\IPython\\core\\magics\\script.py:314\u001b[0m, in \u001b[0;36mScriptMagics.shebang\u001b[1;34m(self, line, cell)\u001b[0m\n\u001b[0;32m    309\u001b[0m \u001b[39mif\u001b[39;00m args\u001b[39m.\u001b[39mraise_error \u001b[39mand\u001b[39;00m p\u001b[39m.\u001b[39mreturncode \u001b[39m!=\u001b[39m \u001b[39m0\u001b[39m:\n\u001b[0;32m    310\u001b[0m     \u001b[39m# If we get here and p.returncode is still None, we must have\u001b[39;00m\n\u001b[0;32m    311\u001b[0m     \u001b[39m# killed it but not yet seen its return code. We don't wait for it,\u001b[39;00m\n\u001b[0;32m    312\u001b[0m     \u001b[39m# in case it's stuck in uninterruptible sleep. -9 = SIGKILL\u001b[39;00m\n\u001b[0;32m    313\u001b[0m     rc \u001b[39m=\u001b[39m p\u001b[39m.\u001b[39mreturncode \u001b[39mor\u001b[39;00m \u001b[39m-\u001b[39m\u001b[39m9\u001b[39m\n\u001b[1;32m--> 314\u001b[0m     \u001b[39mraise\u001b[39;00m CalledProcessError(rc, cell)\n",
            "\u001b[1;31mCalledProcessError\u001b[0m: Command 'b\"\\npython.exe plot_features.py \\\\\\n    use_frames=False \\\\\\n    features_path='saved_features/SAVE_DENSE-extracted_D1_train.pkl' \\\\\\n    split_path='train_val/D1_train.pkl' \\\\\\n    output_image_path='plots/dense_train_woim.png' \\\\\\n    plot_3D=False\\n\"' returned non-zero exit status 1."
          ]
        }
      ],
      "source": [
        "%%bash\n",
        "\n",
        "python.exe plot_features.py \\\n",
        "    use_frames=False \\\n",
        "    features_path='saved_features/SAVE_UNIFORM-extracted_D1_test.pkl' \\\n",
        "    split_path='train_val/D1_test.pkl' \\\n",
        "    output_image_path='plots/uniform_test_woim.png' \\\n",
        "    plot_3D=False"
      ]
    },
    {
      "cell_type": "code",
      "execution_count": 1,
      "metadata": {},
      "outputs": [],
      "source": [
        "%%bash\n",
        "\n",
        "python.exe train_classifier.py \\\n",
        "    name=test_train \\\n",
        "    dataset.shift=D1-D1 \\\n",
        "    dataset.RGB.data_path=../ek_data/frames \\\n",
        "    dataset.RGB.features_name=SAVE_DENSE-extracted \\\n",
        "    dataset.workers=0 \\\n",
        "    # config=configs/I3D_save_feat.yaml \\\n",
        "    # action=train \\\n",
        "    # split=train \\"
      ]
    }
  ],
  "metadata": {
    "accelerator": "GPU",
    "colab": {
      "authorship_tag": "ABX9TyMA44pwS84HIKtaEclSmH2W",
      "include_colab_link": true,
      "provenance": []
    },
    "gpuClass": "standard",
    "kernelspec": {
      "display_name": "Python 3.11.5 ('base')",
      "language": "python",
      "name": "python3"
    },
    "language_info": {
      "codemirror_mode": {
        "name": "ipython",
        "version": 3
      },
      "file_extension": ".py",
      "mimetype": "text/x-python",
      "name": "python",
      "nbconvert_exporter": "python",
      "pygments_lexer": "ipython3",
      "version": "3.11.5"
    },
    "vscode": {
      "interpreter": {
        "hash": "2802aa912f20f04bdfa864fece71ae8a7c06c1db711e2d82eab687200680d432"
      }
    }
  },
  "nbformat": 4,
  "nbformat_minor": 0
}
